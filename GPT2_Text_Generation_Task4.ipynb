{
 "cells": [
  {
   "cell_type": "code",
   "execution_count": null,
   "id": "8fa3c32c",
   "metadata": {},
   "outputs": [],
   "source": [
    "# Generative Text Model Using GPT-2\n",
    "\n",
    "# Install necessary libraries\n",
    "!pip install transformers\n",
    "!pip install torch\n",
    "\n",
    "# Import libraries\n",
    "from transformers import GPT2LMHeadModel, GPT2Tokenizer\n",
    "import torch\n",
    "\n",
    "# Load pre-trained GPT-2 model and tokenizer\n",
    "model_name = 'gpt2'\n",
    "tokenizer = GPT2Tokenizer.from_pretrained(model_name)\n",
    "model = GPT2LMHeadModel.from_pretrained(model_name)\n",
    "\n",
    "# Set device\n",
    "device = torch.device(\"cuda\" if torch.cuda.is_available() else \"cpu\")\n",
    "model.to(device)\n",
    "\n",
    "# Function to generate text\n",
    "def generate_text(prompt, max_length=100):\n",
    "    inputs = tokenizer.encode(prompt, return_tensors='pt').to(device)\n",
    "    outputs = model.generate(inputs, max_length=max_length, num_return_sequences=1, no_repeat_ngram_size=2, \n",
    "                             early_stopping=True)\n",
    "    generated = tokenizer.decode(outputs[0], skip_special_tokens=True)\n",
    "    return generated\n",
    "\n",
    "# Example usage\n",
    "prompt = \"The impact of artificial intelligence on education is\"\n",
    "generated_paragraph = generate_text(prompt)\n",
    "print(generated_paragraph)"
   ]
  }
 ],
 "metadata": {},
 "nbformat": 4,
 "nbformat_minor": 5
}
